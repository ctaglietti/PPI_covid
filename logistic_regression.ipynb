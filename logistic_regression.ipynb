{
 "cells": [
  {
   "cell_type": "code",
   "execution_count": 77,
   "metadata": {},
   "outputs": [
    {
     "name": "stdout",
     "output_type": "stream",
     "text": [
      "[0.95215661 0.9564494  0.95866037 0.96210218 0.96482754 0.96592636\n",
      " 0.96771583 0.96804553 0.96990286 0.97150699 0.9722807  0.97237237\n",
      " 0.97384108 0.97548137 0.97667955 0.97786158 0.97820596 0.97831204\n",
      " 0.97900593 0.97960306 0.97986287 0.97999752 0.98003757 0.98122073\n",
      " 0.98178833 0.98193032 0.98222211 0.98244319 0.98348547 0.98376576\n",
      " 0.98489679 0.98493705 0.98530678 0.98536082 0.98550214 0.98555093\n",
      " 0.98712224 0.98796614 0.98802831 0.98817055 0.98823102 0.98834674\n",
      " 0.98851006 0.98864239 0.98895182 0.98993277 0.99034353 0.99070331\n",
      " 0.99088026 0.99184981 0.99211248 0.99249059 0.99263584 0.99267124\n",
      " 0.99396278 0.9939723  0.99539397 0.9957984 ]\n"
     ]
    }
   ],
   "source": [
    "# useful link: https://scikit-learn.org/stable/modules/generated/sklearn.linear_model.LogisticRegression.html\n",
    "\n",
    "from sklearn.linear_model import LogisticRegression\n",
    "from sklearn.metrics import precision_recall_curve, average_precision_score\n",
    "import pandas as pd\n",
    "import random \n",
    "import numpy as np\n",
    "\n",
    "new_test=pd.read_csv('validation_set.csv')\n",
    "\n",
    "all_values = random.sample(new_test.values.tolist(),len(new_test))\n",
    "all_train = random.sample(all_values,int(len(all_values)*.8))\n",
    "all_test = [n for n in all_values if n not in all_train]\n",
    "\n",
    "# y contains the label column\n",
    "# replace n[13] with the correct column index\n",
    "y_train = [n[13] for n in all_train]\n",
    "y_test = [n[13] for n in all_test]\n",
    "\n",
    "# x contains the features/scores\n",
    "# replace n[2:6]+n[9:10] with the correct column index\n",
    "X_train = [n[2:6]+n[9:10] for n in all_train]\n",
    "X_test = [n[2:6]+n[9:10] for n in all_test]\n",
    "\n",
    "#this is the most important step - calculation of log reg and y-predicted\n",
    "clf = LogisticRegression(random_state=1234).fit(X_train, y_train)\n",
    "y_predicted = [n[1] for n in clf.predict_proba(X_test)]\n",
    "\n",
    "#---------------------------------------------------------------------------------------------------------------------\n",
    "# everything below might not be relevant to the cross-validation that you are attempting \n",
    "# it is basically an attempt to optimize recall and precision\n",
    " \n",
    "average_precision = average_precision_score(y_test, y_predicted)\n",
    "precision, recall, _ = precision_recall_curve(y_test, y_predicted)\n",
    "ix = 0\n",
    "\n",
    "recall_dict={}\n",
    "precisions=[]\n",
    "at_recall=[]\n",
    "\n",
    "#this is for boot-straping\n",
    "for n in range(len(recall)-1):\n",
    "    x = np.round(_[n],2)\n",
    "\n",
    "    if x in recall_dict.keys():\n",
    "        recall_dict[x]['precision'].append(precision[n])\n",
    "        recall_dict[x]['recall'].append(recall[n])\n",
    "    else:\n",
    "        recall_dict[x] = {'precision' : [precision[n]], 'recall' : [recall[n]]}\n",
    "\n",
    "for n in recall:\n",
    "\n",
    "    if n<.8:\n",
    "        ix = list(recall).index(n) - 1\n",
    "        break\n",
    "\n",
    "at_recall.append(precision[ix])\n",
    "\n",
    "precisions.append(average_precision)"
   ]
  },
  {
   "cell_type": "code",
   "execution_count": 83,
   "metadata": {},
   "outputs": [
    {
     "name": "stdout",
     "output_type": "stream",
     "text": [
      "1.0\n",
      "0.9568965517241379\n",
      "0.8534482758620691\n",
      "0.6206896551724137\n",
      "0.25000000000000006\n",
      "0.02586206896551724\n"
     ]
    },
    {
     "data": {
      "text/plain": [
       "[<matplotlib.lines.Line2D at 0x1031d3390>]"
      ]
     },
     "execution_count": 83,
     "metadata": {},
     "output_type": "execute_result"
    },
    {
     "data": {
      "image/png": "[encoded data removed]",
      "text/plain": [
       "<Figure size 432x288 with 1 Axes>"
      ]
     },
     "metadata": {
      "needs_background": "light"
     },
     "output_type": "display_data"
    }
   ],
   "source": [
    "import matplotlib.pyplot as plt\n",
    "mean_recall=[]\n",
    "\n",
    "for i in recall_dict.keys():\n",
    "    rec= recall_dict[i]['recall']\n",
    "\n",
    "    if len(rec)>1:\n",
    "        avrg=sum(rec)/len(rec)\n",
    "        print(avrg)\n",
    "    else:\n",
    "        avrg=rec[0]\n",
    "        print(avrg)\n",
    "    \n",
    "    mean_recall.append(avrg)\n",
    "\n",
    "x=[1,2,3,4,5,6]\n",
    "\n",
    "plt.plot(x,mean_recall)"
   ]
  },
  {
   "cell_type": "code",
   "execution_count": 85,
   "metadata": {},
   "outputs": [
    {
     "name": "stdout",
     "output_type": "stream",
     "text": [
      "[1.0, 1.0, 1.0, 1.0, 1.0, 1.0]\n"
     ]
    },
    {
     "data": {
      "text/plain": [
       "[<matplotlib.lines.Line2D at 0x1a17dea410>]"
      ]
     },
     "execution_count": 85,
     "metadata": {},
     "output_type": "execute_result"
    },
    {
     "data": {
      "image/png": "[encoded data removed]",
      "text/plain": [
       "<Figure size 432x288 with 1 Axes>"
      ]
     },
     "metadata": {
      "needs_background": "light"
     },
     "output_type": "display_data"
    }
   ],
   "source": [
    "import matplotlib.pyplot as plt\n",
    "\n",
    "mean_precision=[]\n",
    "\n",
    "\n",
    "for i in recall_dict.keys():\n",
    "    rec= recall_dict[i]['precision']\n",
    "    \n",
    "    if len(rec)>1:\n",
    "        avrg=sum(rec)/len(rec)\n",
    "\n",
    "    else:\n",
    "        avrg=rec[0]\n",
    "\n",
    "    \n",
    "    mean_precision.append(avrg)\n",
    "\n",
    "\n",
    "print(mean_precision)\n",
    "\n",
    "\n",
    "x=[1,2,3,4,5,6]\n",
    "\n",
    "plt.plot(x,mean_precision)\n"
   ]
  },
  {
   "cell_type": "code",
   "execution_count": 76,
   "metadata": {},
   "outputs": [
    {
     "data": {
      "text/plain": [
       "<matplotlib.collections.PathCollection at 0x1a194cd490>"
      ]
     },
     "execution_count": 76,
     "metadata": {},
     "output_type": "execute_result"
    },
    {
     "data": {
      "image/png": "[encoded data removed]",
      "text/plain": [
       "<Figure size 432x288 with 1 Axes>"
      ]
     },
     "metadata": {
      "needs_background": "light"
     },
     "output_type": "display_data"
    }
   ],
   "source": [
    "import matplotlib.pyplot as plt\n",
    "\n",
    "plt.scatter(mean_recall, mean_precision)"
   ]
  },
  {
   "cell_type": "code",
   "execution_count": null,
   "metadata": {},
   "outputs": [],
   "source": []
  }
 ],
 "metadata": {
  "kernelspec": {
   "display_name": "Python 3",
   "language": "python",
   "name": "python3"
  },
  "language_info": {
   "codemirror_mode": {
    "name": "ipython",
    "version": 3
   },
   "file_extension": ".py",
   "mimetype": "text/x-python",
   "name": "python",
   "nbconvert_exporter": "python",
   "pygments_lexer": "ipython3",
   "version": "3.7.6"
  }
 },
 "nbformat": 4,
 "nbformat_minor": 4
}
